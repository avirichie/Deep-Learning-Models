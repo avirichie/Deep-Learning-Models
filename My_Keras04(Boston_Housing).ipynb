{
  "nbformat": 4,
  "nbformat_minor": 0,
  "metadata": {
    "colab": {
      "name": "My_Keras04(Boston_Housing).ipynb",
      "provenance": [],
      "authorship_tag": "ABX9TyN6Si8+Ydssv09VqTnveEMK",
      "include_colab_link": true
    },
    "kernelspec": {
      "name": "python3",
      "display_name": "Python 3"
    },
    "accelerator": "GPU"
  },
  "cells": [
    {
      "cell_type": "markdown",
      "metadata": {
        "id": "view-in-github",
        "colab_type": "text"
      },
      "source": [
        "<a href=\"https://colab.research.google.com/github/avirichie/Deep-Learning-Models/blob/master/My_Keras04(Boston_Housing).ipynb\" target=\"_parent\"><img src=\"https://colab.research.google.com/assets/colab-badge.svg\" alt=\"Open In Colab\"/></a>"
      ]
    },
    {
      "cell_type": "code",
      "metadata": {
        "id": "Vy15xE7adXOd",
        "colab_type": "code",
        "colab": {
          "base_uri": "https://localhost:8080/",
          "height": 96
        },
        "outputId": "6cfb2f97-a555-4023-df83-4be08c38422b"
      },
      "source": [
        "from tensorflow.keras.datasets import boston_housing\n",
        "(train_X,train_Y),(test_X,test_Y) = boston_housing.load_data()"
      ],
      "execution_count": 1,
      "outputs": [
        {
          "output_type": "display_data",
          "data": {
            "text/html": [
              "<p style=\"color: red;\">\n",
              "The default version of TensorFlow in Colab will soon switch to TensorFlow 2.x.<br>\n",
              "We recommend you <a href=\"https://www.tensorflow.org/guide/migrate\" target=\"_blank\">upgrade</a> now \n",
              "or ensure your notebook will continue to use TensorFlow 1.x via the <code>%tensorflow_version 1.x</code> magic:\n",
              "<a href=\"https://colab.research.google.com/notebooks/tensorflow_version.ipynb\" target=\"_blank\">more info</a>.</p>\n"
            ],
            "text/plain": [
              "<IPython.core.display.HTML object>"
            ]
          },
          "metadata": {
            "tags": []
          }
        },
        {
          "output_type": "stream",
          "text": [
            "Downloading data from https://storage.googleapis.com/tensorflow/tf-keras-datasets/boston_housing.npz\n",
            "57344/57026 [==============================] - 0s 0us/step\n"
          ],
          "name": "stdout"
        }
      ]
    },
    {
      "cell_type": "code",
      "metadata": {
        "id": "ePkreoBxfrsC",
        "colab_type": "code",
        "colab": {
          "base_uri": "https://localhost:8080/",
          "height": 34
        },
        "outputId": "8c7cf12b-49d0-4b26-9f68-7c428b076528"
      },
      "source": [
        "train_X.shape"
      ],
      "execution_count": 2,
      "outputs": [
        {
          "output_type": "execute_result",
          "data": {
            "text/plain": [
              "(404, 13)"
            ]
          },
          "metadata": {
            "tags": []
          },
          "execution_count": 2
        }
      ]
    },
    {
      "cell_type": "code",
      "metadata": {
        "id": "yGt34dxZgpAP",
        "colab_type": "code",
        "colab": {
          "base_uri": "https://localhost:8080/",
          "height": 34
        },
        "outputId": "c435d79f-e681-46a3-8253-3ef13adc5f98"
      },
      "source": [
        "test_X.shape"
      ],
      "execution_count": 3,
      "outputs": [
        {
          "output_type": "execute_result",
          "data": {
            "text/plain": [
              "(102, 13)"
            ]
          },
          "metadata": {
            "tags": []
          },
          "execution_count": 3
        }
      ]
    },
    {
      "cell_type": "markdown",
      "metadata": {
        "id": "GnzpjR55gy-3",
        "colab_type": "text"
      },
      "source": [
        "I will use a very small network with two hidden layers, each with 64 units. In general, the less training data you have, the worse overfitting will be, and using a small network is one way to mitigate overfitting."
      ]
    },
    {
      "cell_type": "code",
      "metadata": {
        "id": "KuK4UVgngr1a",
        "colab_type": "code",
        "colab": {
          "base_uri": "https://localhost:8080/",
          "height": 50
        },
        "outputId": "9e1bcd82-05f2-446a-850d-9ba63eb61b8e"
      },
      "source": [
        "#Data Normalization\n",
        "import numpy as np\n",
        "mean = train_X.mean(axis=0)\n",
        "train_X = train_X - mean\n",
        "std= train_X.std(axis=0)\n",
        "train_X= train_X/std\n",
        "\n",
        "test_X -=test_X\n",
        "test_X/=test_X"
      ],
      "execution_count": 4,
      "outputs": [
        {
          "output_type": "stream",
          "text": [
            "/usr/local/lib/python3.6/dist-packages/ipykernel_launcher.py:8: RuntimeWarning: invalid value encountered in true_divide\n",
            "  \n"
          ],
          "name": "stderr"
        }
      ]
    },
    {
      "cell_type": "markdown",
      "metadata": {
        "id": "H_I-buF1iDIy",
        "colab_type": "text"
      },
      "source": [
        "Note that the quantities used for normalizing the test data are computed using the training data. One should never use in workflow any quantity computed on the test data, even for something as simple as data normalization."
      ]
    },
    {
      "cell_type": "code",
      "metadata": {
        "id": "JUpcwRyWh_vr",
        "colab_type": "code",
        "colab": {}
      },
      "source": [
        "from tensorflow.keras import models\n",
        "from tensorflow.keras import layers\n",
        "\n",
        "def build_model():\n",
        "  model= models.Sequential()\n",
        "  model.add(layers.Dense(64,activation='relu',input_shape=(test_X.shape[1],)))\n",
        "  model.add(layers.Dense(64,activation='relu'))\n",
        "  model.add(layers.Dense(1))\n",
        "  model.compile(optimizer='rmsprop', loss='mse', metrics=['mae'])\n",
        "  return model"
      ],
      "execution_count": 0,
      "outputs": []
    },
    {
      "cell_type": "markdown",
      "metadata": {
        "id": "CEf5IU1EjsWe",
        "colab_type": "text"
      },
      "source": [
        "The network ends with a single unit and no activation (it will be a linear layer). This is a typical setup for scalar regression (a regression where you’re trying to predict a single continuous value). Applying an activation function would constrain the range the output can take; for instance, if you applied a sigmoid activation function to the last layer, the network could only learn to predict values between 0 and 1. Here, because the last layer is purely linear, the network is free to learn to predict values in any range."
      ]
    },
    {
      "cell_type": "code",
      "metadata": {
        "id": "Yyuza8SBjtN8",
        "colab_type": "code",
        "colab": {
          "base_uri": "https://localhost:8080/",
          "height": 84
        },
        "outputId": "6da4525d-e833-4d3b-b536-a7fca8d653be"
      },
      "source": [
        "#K-fold validation on the training set allows us to partition the data into k different sets where it iteratively runs one of the set as the validation set and remaining K-1 sets\n",
        "# as training sets. Because the dataset is small running a carving a validation set would only increase the variance in the set. This would prevent relaible evaluation of the model\n",
        "\n",
        "import numpy as np \n",
        "\n",
        "k=4\n",
        "num_val = len(train_X)//k\n",
        "num_epoch = 100\n",
        "all_scores=[]\n",
        "for i in range(k):\n",
        "  print(\"Processing folds:\",i)\n",
        "  val_X= train_X[i*num_val : (i+1)*num_val]\n",
        "  val_Y= train_Y[i*num_val : (i+1)*num_val]\n",
        "\n",
        "  model= build_model()\n",
        "  history=model.fit(x=train_X,\n",
        "            y=train_Y,\n",
        "            batch_size=1,\n",
        "            verbose=0,\n",
        "            epochs = num_epoch)\n",
        "  val_mse,val_mae=model.evaluate(val_X,val_Y,verbose=0)\n",
        "  all_scores.append(val_mse)"
      ],
      "execution_count": 10,
      "outputs": [
        {
          "output_type": "stream",
          "text": [
            "Processing folds: 0\n",
            "Processing folds: 1\n",
            "Processing folds: 2\n",
            "Processing folds: 3\n"
          ],
          "name": "stdout"
        }
      ]
    },
    {
      "cell_type": "code",
      "metadata": {
        "id": "8DDjZW5fu7lI",
        "colab_type": "code",
        "colab": {
          "base_uri": "https://localhost:8080/",
          "height": 34
        },
        "outputId": "a6095308-df49-458b-a4d6-6ef7fda48484"
      },
      "source": [
        "print(all_scores)"
      ],
      "execution_count": 11,
      "outputs": [
        {
          "output_type": "stream",
          "text": [
            "[3.669307010008557, 2.5869547447355665, 3.94205106839095, 5.4286990708643845]\n"
          ],
          "name": "stdout"
        }
      ]
    },
    {
      "cell_type": "code",
      "metadata": {
        "id": "nnwnNnWYyff4",
        "colab_type": "code",
        "colab": {
          "base_uri": "https://localhost:8080/",
          "height": 34
        },
        "outputId": "c0af42c3-2488-4856-ab93-48cdd5e575b7"
      },
      "source": [
        "np.mean(all_scores)"
      ],
      "execution_count": 13,
      "outputs": [
        {
          "output_type": "execute_result",
          "data": {
            "text/plain": [
              "3.9067529734998643"
            ]
          },
          "metadata": {
            "tags": []
          },
          "execution_count": 13
        }
      ]
    },
    {
      "cell_type": "code",
      "metadata": {
        "id": "QHe_j1S3yhyh",
        "colab_type": "code",
        "colab": {}
      },
      "source": [
        ""
      ],
      "execution_count": 0,
      "outputs": []
    }
  ]
}