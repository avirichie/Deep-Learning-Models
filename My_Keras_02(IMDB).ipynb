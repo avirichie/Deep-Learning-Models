{
  "nbformat": 4,
  "nbformat_minor": 0,
  "metadata": {
    "colab": {
      "name": "My_Keras-02(IMDB).ipynb",
      "provenance": [],
      "collapsed_sections": [],
      "authorship_tag": "ABX9TyPHAxso3cHqVssHqKHExbE/",
      "include_colab_link": true
    },
    "kernelspec": {
      "name": "python3",
      "display_name": "Python 3"
    }
  },
  "cells": [
    {
      "cell_type": "markdown",
      "metadata": {
        "id": "view-in-github",
        "colab_type": "text"
      },
      "source": [
        "<a href=\"https://colab.research.google.com/github/avirichie/My-Deep-Learning-models/blob/master/My_Keras_02(IMDB).ipynb\" target=\"_parent\"><img src=\"https://colab.research.google.com/assets/colab-badge.svg\" alt=\"Open In Colab\"/></a>"
      ]
    },
    {
      "cell_type": "code",
      "metadata": {
        "id": "m-o3cWw4QW4s",
        "colab_type": "code",
        "colab": {}
      },
      "source": [
        "from keras.datasets import imdb"
      ],
      "execution_count": 0,
      "outputs": []
    },
    {
      "cell_type": "code",
      "metadata": {
        "id": "bHoa58kpQc0k",
        "colab_type": "code",
        "colab": {}
      },
      "source": [
        "#num_words=10000 means we only take 10000 most frequent words from the dataset \n",
        "(train_X,train_Y),(test_X,test_Y)=imdb.load_data(num_words=10000) "
      ],
      "execution_count": 0,
      "outputs": []
    },
    {
      "cell_type": "code",
      "metadata": {
        "id": "uxYA78TFQgtO",
        "colab_type": "code",
        "colab": {
          "base_uri": "https://localhost:8080/",
          "height": 84
        },
        "outputId": "9b77fc50-1c2d-400e-fc6a-1f3001cc3451"
      },
      "source": [
        "print(\"The training set shape is\",train_X.shape)\n",
        "print(\"The training labels are\",train_Y.shape)\n",
        "print(\"The test set shape is \",test_X.shape)\n",
        "print(\"The test labels are \",test_Y.shape)"
      ],
      "execution_count": 41,
      "outputs": [
        {
          "output_type": "stream",
          "text": [
            "The training set shape is (25000,)\n",
            "The training labels are (25000,)\n",
            "The test set shape is  (25000,)\n",
            "The test labels are  (25000,)\n"
          ],
          "name": "stdout"
        }
      ]
    },
    {
      "cell_type": "code",
      "metadata": {
        "id": "5y21vZvqQjPK",
        "colab_type": "code",
        "colab": {
          "base_uri": "https://localhost:8080/",
          "height": 34
        },
        "outputId": "8e46b50f-fe89-4159-b20e-4b8e769edd88"
      },
      "source": [
        "train_X[10]  # train and tes data is a list of reviews and each review is a list of word indices \n",
        "train_Y[10]  # Train and test labels are lists of 0s and 1s where 0 stands for negetive and 1 stands for positive "
      ],
      "execution_count": 4,
      "outputs": [
        {
          "output_type": "execute_result",
          "data": {
            "text/plain": [
              "1"
            ]
          },
          "metadata": {
            "tags": []
          },
          "execution_count": 4
        }
      ]
    },
    {
      "cell_type": "code",
      "metadata": {
        "id": "yJML0lnUQlUq",
        "colab_type": "code",
        "colab": {
          "base_uri": "https://localhost:8080/",
          "height": 34
        },
        "outputId": "cae430fd-c73f-4833-8600-911810dc0750"
      },
      "source": [
        "#In order to check the max value index\n",
        "max([max(sequence) for sequence in train_X])"
      ],
      "execution_count": 5,
      "outputs": [
        {
          "output_type": "execute_result",
          "data": {
            "text/plain": [
              "9999"
            ]
          },
          "metadata": {
            "tags": []
          },
          "execution_count": 5
        }
      ]
    },
    {
      "cell_type": "markdown",
      "metadata": {
        "id": "EKzRDriLQqZi",
        "colab_type": "text"
      },
      "source": [
        "Preprocessing the data\n",
        "#We cant feed the list as input to the neural networks.\n",
        "#We have to turn lists into lists of tensors. One way for it to do is one hot encoding of the input data that means it will be 10000 dimensional vector filled with 1 and 0's except on the places where the indices is present"
      ]
    },
    {
      "cell_type": "code",
      "metadata": {
        "id": "LIZ31bNaQn1y",
        "colab_type": "code",
        "colab": {}
      },
      "source": [
        "import numpy as np \n",
        "\n",
        "def one_hot_encode(sequences,dimensions=10000):\n",
        "    results=np.zeros((len(sequences),dimensions))\n",
        "    for i,sequence in enumerate(sequences):\n",
        "        results[i,sequence]=1\n",
        "    return results\n",
        "train_X_enc= one_hot_encode(train_X)\n",
        "test_X_enc = one_hot_encode(test_X)\n"
      ],
      "execution_count": 0,
      "outputs": []
    },
    {
      "cell_type": "code",
      "metadata": {
        "id": "_CMLmggUQ1x4",
        "colab_type": "code",
        "colab": {
          "base_uri": "https://localhost:8080/",
          "height": 34
        },
        "outputId": "f733aa97-dcf4-4536-d4f9-5392b50810eb"
      },
      "source": [
        "train_X_enc[10]\n",
        "test_X_enc[10]"
      ],
      "execution_count": 8,
      "outputs": [
        {
          "output_type": "execute_result",
          "data": {
            "text/plain": [
              "array([0., 1., 1., ..., 0., 0., 0.])"
            ]
          },
          "metadata": {
            "tags": []
          },
          "execution_count": 8
        }
      ]
    },
    {
      "cell_type": "code",
      "metadata": {
        "id": "cXN_IRnfQ49t",
        "colab_type": "code",
        "colab": {}
      },
      "source": [
        "train_Y_enc =np.asarray(train_Y).astype('float32')\n",
        "test_Y_enc= np.asarray(test_Y).astype('float32')"
      ],
      "execution_count": 0,
      "outputs": []
    },
    {
      "cell_type": "code",
      "metadata": {
        "id": "gd05PSN-Q6cS",
        "colab_type": "code",
        "colab": {}
      },
      "source": [
        "#Building the model \n",
        "\n",
        "from tensorflow.keras import models\n",
        "from tensorflow.keras import layers  \n",
        "\n",
        "model= models.Sequential()\n",
        "model.add(layers.Dense(32,activation='relu',input_shape=(10000,)))\n",
        "model.add(layers.Dense(32,activation='relu'))\n",
        "model.add(layers.Dense(16,activation='sigmoid'))"
      ],
      "execution_count": 0,
      "outputs": []
    },
    {
      "cell_type": "code",
      "metadata": {
        "colab_type": "code",
        "id": "YxMQoGmaD6VB",
        "colab": {}
      },
      "source": [
        "model.compile(optimizer='rmsprop',\n",
        "              loss='binary_crossentropy',\n",
        "              metrics=['accuracy'])"
      ],
      "execution_count": 0,
      "outputs": []
    },
    {
      "cell_type": "markdown",
      "metadata": {
        "id": "znasjWtJRtWV",
        "colab_type": "text"
      },
      "source": [
        "We Create a Validation set to monitor the accuracy of the model on the data"
      ]
    },
    {
      "cell_type": "code",
      "metadata": {
        "id": "h5DRvglURFQH",
        "colab_type": "code",
        "colab": {}
      },
      "source": [
        "val_X = train_X_enc[:10000]\n",
        "partial_train_X = train_X_enc[10000:]\n",
        "val_Y = train_Y_enc[:10000]\n",
        "partial_train_Y = train_Y_enc[10000:]"
      ],
      "execution_count": 0,
      "outputs": []
    },
    {
      "cell_type": "code",
      "metadata": {
        "id": "5U85ezwFRsgn",
        "colab_type": "code",
        "colab": {
          "base_uri": "https://localhost:8080/",
          "height": 168
        },
        "outputId": "f6c88e58-d107-4967-a0e7-cfa0b7b95927"
      },
      "source": [
        "mod=model.fit(partial_train_X,partial_train_Y,batch_size=512,epochs=4,validation_data=(val_X,val_Y))"
      ],
      "execution_count": 50,
      "outputs": [
        {
          "output_type": "stream",
          "text": [
            "Train on 15000 samples, validate on 10000 samples\n",
            "Epoch 1/4\n",
            "15000/15000 [==============================] - 2s 125us/sample - loss: 0.0512 - acc: 0.9866 - val_loss: 0.4245 - val_acc: 0.8749\n",
            "Epoch 2/4\n",
            "15000/15000 [==============================] - 2s 125us/sample - loss: 0.0412 - acc: 0.9904 - val_loss: 0.4353 - val_acc: 0.8728\n",
            "Epoch 3/4\n",
            "15000/15000 [==============================] - 2s 126us/sample - loss: 0.0362 - acc: 0.9911 - val_loss: 0.4687 - val_acc: 0.8710\n",
            "Epoch 4/4\n",
            "15000/15000 [==============================] - 2s 126us/sample - loss: 0.0246 - acc: 0.9957 - val_loss: 0.5025 - val_acc: 0.8726\n"
          ],
          "name": "stdout"
        }
      ]
    },
    {
      "cell_type": "code",
      "metadata": {
        "id": "Sv-1S8eHY2hh",
        "colab_type": "code",
        "colab": {
          "base_uri": "https://localhost:8080/",
          "height": 70
        },
        "outputId": "a3d853b1-07a9-47ad-a483-7556b5fa9f85"
      },
      "source": [
        "print(mod.history)\n",
        "print(mod.history.keys())"
      ],
      "execution_count": 46,
      "outputs": [
        {
          "output_type": "stream",
          "text": [
            "{'loss': [0.49963696292241416, 0.29251959923108417, 0.2186438243230184, 0.1745053758184115], 'acc': [0.78706664, 0.90426666, 0.92593336, 0.9410667], 'val_loss': [0.3774428716659546, 0.31255332493782045, 0.2765948617219925, 0.277582766866684], 'val_acc': [0.8681, 0.8772, 0.8925, 0.8901]}\n",
            "dict_keys(['loss', 'acc', 'val_loss', 'val_acc'])\n"
          ],
          "name": "stdout"
        }
      ]
    },
    {
      "cell_type": "code",
      "metadata": {
        "id": "XGJp8U_VbNPa",
        "colab_type": "code",
        "colab": {}
      },
      "source": [
        "history_dict=mod.history"
      ],
      "execution_count": 0,
      "outputs": []
    },
    {
      "cell_type": "code",
      "metadata": {
        "id": "tR1SyvzrbXW3",
        "colab_type": "code",
        "colab": {
          "base_uri": "https://localhost:8080/",
          "height": 295
        },
        "outputId": "cd1272ab-f4ec-48c7-dd4e-b4977f29a458"
      },
      "source": [
        "import matplotlib.pyplot as plt\n",
        "\n",
        "loss_values=history_dict['loss']\n",
        "val_loss_values=history_dict['val_loss']\n",
        "epochs=range(1,len(loss_values)+1)\n",
        "\n",
        "plt.plot(epochs,loss_values,'bo',label=\"Training set Loss\")\n",
        "plt.plot(epochs,val_loss_values,'b',label=\"Validation set Loss\")\n",
        "plt.title(\"Training Set loss vs Validation set Loss\")\n",
        "plt.xlabel('Epochs')\n",
        "plt.ylabel('loss')\n",
        "plt.legend()\n",
        "\n",
        "plt.show()"
      ],
      "execution_count": 48,
      "outputs": [
        {
          "output_type": "display_data",
          "data": {
            "image/png": "[encoded data removed]",
            "text/plain": [
              "<Figure size 432x288 with 1 Axes>"
            ]
          },
          "metadata": {
            "tags": []
          }
        }
      ]
    },
    {
      "cell_type": "code",
      "metadata": {
        "id": "sw1EHCx4dGvJ",
        "colab_type": "code",
        "colab": {
          "base_uri": "https://localhost:8080/",
          "height": 235
        },
        "outputId": "7d2ce627-019f-4055-b6eb-2cef52b7d55d"
      },
      "source": [
        "model.predict(test_X_enc)"
      ],
      "execution_count": 63,
      "outputs": [
        {
          "output_type": "execute_result",
          "data": {
            "text/plain": [
              "array([[0.47448424, 0.5085617 , 0.49989942, ..., 0.44625306, 0.47660142,\n",
              "        0.47159386],\n",
              "       [0.45512173, 0.51845324, 0.4759837 , ..., 0.4479011 , 0.4392316 ,\n",
              "        0.4632325 ],\n",
              "       [0.47592238, 0.5790727 , 0.48393494, ..., 0.3479593 , 0.4331301 ,\n",
              "        0.45395762],\n",
              "       ...,\n",
              "       [0.4870963 , 0.488979  , 0.49655232, ..., 0.4434712 , 0.47602004,\n",
              "        0.48920768],\n",
              "       [0.4773391 , 0.50280696, 0.4981943 , ..., 0.43711987, 0.46471924,\n",
              "        0.47436902],\n",
              "       [0.49120688, 0.5052999 , 0.495415  , ..., 0.45709667, 0.4687239 ,\n",
              "        0.4886402 ]], dtype=float32)"
            ]
          },
          "metadata": {
            "tags": []
          },
          "execution_count": 63
        }
      ]
    },
    {
      "cell_type": "code",
      "metadata": {
        "id": "ihz19GtWEG01",
        "colab_type": "code",
        "colab": {}
      },
      "source": [
        ""
      ],
      "execution_count": 0,
      "outputs": []
    }
  ]
}